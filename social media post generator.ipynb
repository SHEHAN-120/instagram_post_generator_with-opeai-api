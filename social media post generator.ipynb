{
 "cells": [
  {
   "cell_type": "code",
   "execution_count": 19,
   "id": "64634be6",
   "metadata": {},
   "outputs": [],
   "source": [
    "import os\n",
    "from openai import OpenAI  \n",
    "from dotenv import load_dotenv\n",
    "from IPython.display import Markdown,display\n",
    "\n",
    "load_dotenv()\n",
    "\n",
    "OPENAI_API_KEY=os.getenv(\"OPENAI_API_KEY\")\n",
    "\n",
    "if OPENAI_API_KEY is None:\n",
    "    raise Exception(\"API Key is missing\")\n"
   ]
  },
  {
   "cell_type": "code",
   "execution_count": 20,
   "id": "5e8310f0",
   "metadata": {},
   "outputs": [],
   "source": [
    "client = OpenAI()\n",
    "\n",
    "completion=client.chat.completions.create(\n",
    "    model=\"gpt-4o-mini-search-preview\",\n",
    "    messages=[\n",
    "        {\n",
    "            \"role\":\"user\",\n",
    "            \"content\": \"Bring up some of the latest news articles around the filed of Deep Learning.\",\n",
    "\n",
    "        }\n",
    "    ],\n",
    ")\n",
    "news_articles=completion.choices[0].message.content"
   ]
  },
  {
   "cell_type": "code",
   "execution_count": 21,
   "id": "b911263f",
   "metadata": {},
   "outputs": [
    {
     "data": {
      "text/markdown": [
       "Here are some recent developments in the field of deep learning:\n",
       "\n",
       "**DeepSeek's Innovative AI Model**\n",
       "\n",
       "In January 2025, Chinese AI lab DeepSeek introduced R1, a groundbreaking AI model that reduces development costs by automating human feedback processes through reinforcement learning. This approach has led to models that deliver accurate, step-by-step responses with significantly less human intervention, setting a new precedent in AI development. ([ft.com](https://www.ft.com/content/ea803121-196f-4c61-ab70-93b38043836e?utm_source=openai))\n",
       "\n",
       "**Google DeepMind's AlphaEvolve**\n",
       "\n",
       "In May 2025, Google DeepMind unveiled AlphaEvolve, an evolutionary coding agent utilizing large language models like Gemini to design optimized algorithms. AlphaEvolve has made several algorithmic discoveries, including improvements in matrix multiplication and data center scheduling, demonstrating the potential of AI in algorithm optimization. ([en.wikipedia.org](https://en.wikipedia.org/wiki/Google_DeepMind?utm_source=openai))\n",
       "\n",
       "**NVIDIA's AI Infrastructure Expansion in Europe**\n",
       "\n",
       "In June 2025, NVIDIA announced collaborations with European nations and technology leaders to build NVIDIA Blackwell AI infrastructure. This initiative aims to strengthen digital sovereignty and support economic growth by providing over 3,000 exaflops of compute resources for AI applications, positioning Europe as a leader in the AI industrial revolution. ([techpowerup.com](https://www.techpowerup.com/news-tags/Deep%20Learning?utm_source=openai))\n",
       "\n",
       "**Microsoft's BioEmu-1 Model**\n",
       "\n",
       "In February 2025, Microsoft Research introduced BioEmu-1, a deep-learning model designed to predict the range of structural conformations that proteins can adopt. Unlike traditional methods that provide a single static structure, BioEmu-1 generates structural ensembles, offering a broader view of protein dynamics and potential applications in drug discovery. ([infoq.com](https://www.infoq.com/Deep%2BLearning/news/?utm_source=openai))\n",
       "\n",
       "**MIT's Research on Bias in Large Language Models**\n",
       "\n",
       "In June 2025, researchers at MIT discovered the root cause of a specific type of bias in large language models. This finding paves the way for more accurate and reliable AI systems by addressing inherent biases in model training and deployment. ([news.mit.edu](https://news.mit.edu/topic/machine-learning?utm_source=openai))\n",
       "\n",
       "\n",
       "## Recent Breakthroughs in Deep Learning:\n",
       "- [DeepSeek's 'aha moment' creates new way to build powerful AI with less money](https://www.ft.com/content/ea803121-196f-4c61-ab70-93b38043836e?utm_source=openai) "
      ],
      "text/plain": [
       "<IPython.core.display.Markdown object>"
      ]
     },
     "metadata": {},
     "output_type": "display_data"
    }
   ],
   "source": [
    "display(Markdown(news_articles))"
   ]
  },
  {
   "cell_type": "code",
   "execution_count": 22,
   "id": "62243023",
   "metadata": {},
   "outputs": [
    {
     "data": {
      "text/markdown": [
       "### Analysis of the Original Post\n",
       "\n",
       "**Style of Writing:**\n",
       "- **Complexity:** The post uses jargon and technical language typical to deep learning developments (e.g., “reinforcement learning,” “algorithmic discoveries,” “structural ensembles”). This could alienate readers unfamiliar with the concepts.\n",
       "- **Tone:** The tone is informative and formal, suitable for a professional audience but not necessarily engaging for a casual Instagram user.\n",
       "- **Structure:** The writing is structured in a conventional manner, presenting updates in a bulleted list format but lacks visual appeal or a narrative that could captivate users.\n",
       "\n",
       "**Key Points:**\n",
       "1. Introduction of DeepSeek's R1 model for AI development cost reduction.\n",
       "2. Launch of Google DeepMind's AlphaEvolve for algorithm optimization.\n",
       "3. NVIDIA’s AI infrastructure project in Europe.\n",
       "4. Microsoft’s BioEmu-1 model for protein structure prediction.\n",
       "5. MIT's research addressing bias in language models.\n",
       "\n",
       "### Effectiveness:\n",
       "The post is not effective for an Instagram audience, especially those with little to no knowledge of deep learning. The technical jargon and serious tone may be confusing or uninteresting. Engaging content on Instagram often relies on visuals, simplicity, and relatability, which this post lacks. There's a need for clarity and connection to broader themes or implications of these advancements that resonate with a general audience.\n",
       "\n",
       "### Restructured Post\n",
       "\n",
       "---\n",
       "\n",
       "🌟 **Exciting News in AI!** 🌟\n",
       "\n",
       "1. **Cutting Costs with AI!** 🤖\n",
       "   Meet DeepSeek's R1 model! This new technology is shaking things up by using AI to learn from feedback without needing as much human input. Imagine building powerful AI tools without breaking the bank! 💰✨ [Link in Bio]\n",
       "\n",
       "2. **Genie in a Bottle: AlphaEvolve!** 💡\n",
       "   Google DeepMind has released AlphaEvolve, a smart system that helps create better algorithms – kind of like finding the fastest route to your favorite coffee shop! ☕️💨 [Link in Bio]\n",
       "\n",
       "3. **NVIDIA Goes Big in Europe!** 🇪🇺\n",
       "   NVIDIA is teaming up with European countries to boost AI tech with a massive 3,000 exaflops of computing power! This means faster and smarter AI for everyone! 🚀 [Link in Bio]\n",
       "\n",
       "4. **Revolutionizing Medicine with BioEmu-1!** 💊\n",
       "   Microsoft’s new BioEmu-1 predicts the many shapes proteins can take. This breakthrough could change how we develop life-saving drugs! 🧬❤️ [Link in Bio]\n",
       "\n",
       "5. **Fighting Bias in AI:** 🤝\n",
       "   MIT researchers are tackling bias in AI, working towards fairer technology for all! Now that’s some important work! 🌍💪 [Link in Bio]\n",
       "\n",
       "✨ Follow us for more updates on the amazing world of AI! 💙\n",
       "\n",
       "---\n",
       "\n",
       "### Reasoning\n",
       "This restructured post employs a more conversational and engaging tone, breaks down complex ideas into simpler concepts, and adds emojis for visual appeal, making it more suitable for Instagram's casual audience. It invites curiosity with relatable analogies and encourages user engagement by directing them to \"Link in Bio\" for further information. This approach fosters a connection with readers who may not have a strong background in deep learning, thus increasing effectiveness."
      ],
      "text/plain": [
       "<IPython.core.display.Markdown object>"
      ]
     },
     "metadata": {},
     "output_type": "display_data"
    }
   ],
   "source": [
    "system_message = \"You are a helpful assistant.\"\n",
    "\n",
    "reasoning_prompt=f\"\"\"\n",
    "I've been given a social media post.\n",
    "I want you to analyze the style of writing and the key points mentioned in the post and provide me with a reasoning\n",
    "as to why this post is effective or not effective for a Instagram audience for those who may little to no knowledge about deep learning.vars\n",
    "\n",
    "After this, restructure the post according to the suggestions you have provided.vars\n",
    "please provide your reasoning in a few lines.\n",
    "\n",
    "Here is the post for context:\n",
    "\n",
    "{news_articles}\n",
    "\"\"\"\n",
    "completion=client.chat.completions.create(\n",
    "    model=\"gpt-4o-mini\",\n",
    "    messages=[\n",
    "        {\"role\": \"system\", \"content\":system_message},\n",
    "        {\n",
    "            \"role\":\"user\",\n",
    "            \"content\":reasoning_prompt\n",
    "        }\n",
    "    ]\n",
    ")\n",
    "reasoning_response=completion.choices[0].message.content\n",
    "display(Markdown(reasoning_response))"
   ]
  }
 ],
 "metadata": {
  "kernelspec": {
   "display_name": "llms",
   "language": "python",
   "name": "python3"
  },
  "language_info": {
   "codemirror_mode": {
    "name": "ipython",
    "version": 3
   },
   "file_extension": ".py",
   "mimetype": "text/x-python",
   "name": "python",
   "nbconvert_exporter": "python",
   "pygments_lexer": "ipython3",
   "version": "3.11.13"
  }
 },
 "nbformat": 4,
 "nbformat_minor": 5
}
